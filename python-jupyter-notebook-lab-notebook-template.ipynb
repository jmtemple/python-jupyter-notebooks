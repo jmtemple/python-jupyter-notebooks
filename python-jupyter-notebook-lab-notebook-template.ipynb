{
 "cells": [
  {
   "cell_type": "markdown",
   "id": "46cd8993",
   "metadata": {},
   "source": [
    "# Python in Jupyter Notebooks (EoC I, F21)"
   ]
  },
  {
   "cell_type": "markdown",
   "id": "2c9311dd",
   "metadata": {},
   "source": [
    "Student Name: **Enter Your Name Here (Double click to edit)**\n",
    "<br>\n",
    "Net ID: **Enter Your NetID Here (Double click to edit)**\n",
    "<br>"
   ]
  },
  {
   "cell_type": "markdown",
   "id": "6d25268a",
   "metadata": {},
   "source": [
    "NOTE: As Q6 specifes, remember to submit two versions of your lab notebook on Canvas- a Jupyter Notebook (`.ipynb`) file and a PDF (a process we work through in an earlier section of the lab)."
   ]
  },
  {
   "cell_type": "markdown",
   "id": "492920bc",
   "metadata": {},
   "source": [
    "**Q1: Use the Anaconda or Jupyter terminal to install the four libraries mentioned in step 55 (numpy, scikit-learn, pandas, matplotlib). Describe your experience installing these libraries using the available/provided documentation. What did you expect to happen? What challenges did you face? How did you solve them?**"
   ]
  },
  {
   "cell_type": "markdown",
   "id": "8a05bd3b",
   "metadata": {},
   "source": [
    "**Answer**: Your answer here (double click to edit)"
   ]
  },
  {
   "cell_type": "code",
   "execution_count": null,
   "id": "48d624db",
   "metadata": {},
   "outputs": [],
   "source": [
    "# your codes here (if needed)"
   ]
  },
  {
   "cell_type": "markdown",
   "id": "eb2ab8ba",
   "metadata": {},
   "source": [
    "**Q2: Write import statements for each of the libraries you installed in Q1. What did you expect to happen? What challenges did you face (if any)?**"
   ]
  },
  {
   "cell_type": "markdown",
   "id": "83959bba",
   "metadata": {},
   "source": [
    "**Answer**: Your answer here (double click to edit)"
   ]
  },
  {
   "cell_type": "code",
   "execution_count": null,
   "id": "8134f31d",
   "metadata": {},
   "outputs": [],
   "source": [
    "# your codes here (if needed)"
   ]
  },
  {
   "cell_type": "markdown",
   "id": "affc4e83",
   "metadata": {},
   "source": [
    "<strong>Q3: In a markdown cell, add text that includes the following style or formatting components:\n",
    "- Heading (h1, h2, h3, etc)\n",
    "- Italics or bold text formatting\n",
    "- Unordered (or bulleted point) list\n",
    "- Link\n",
    "\n",
    "NOTE: You will want to reference Adam Pritchard's [Markdown Cheatsheet](https://github.com/adam-p/markdown-here/wiki/Markdown-Cheatsheet) resource when working on this question.</strong>"
   ]
  },
  {
   "cell_type": "markdown",
   "id": "26a56e28",
   "metadata": {},
   "source": [
    "**Answer**: Your answer here (double click to edit)"
   ]
  },
  {
   "cell_type": "code",
   "execution_count": null,
   "id": "3428094c",
   "metadata": {},
   "outputs": [],
   "source": [
    "# your codes here (if needed)"
   ]
  },
  {
   "cell_type": "markdown",
   "id": "a9ee0ed0",
   "metadata": {},
   "source": [
    "<strong>Q4: In a code cell, write a simple Python program (or programs) that includes the following functions:\n",
    "- `input()`\n",
    "- `print()`\n",
    "\n",
    "You are welcome to use a program (or programs) you've written for previous labs- original code is not required for this question. The main point for this question is to see how a Jupyter Notebook code cell executes a program.</strong>"
   ]
  },
  {
   "cell_type": "markdown",
   "id": "641672d2",
   "metadata": {},
   "source": [
    "**Answer**: Your answer here (double click to edit)"
   ]
  },
  {
   "cell_type": "code",
   "execution_count": null,
   "id": "fa4e9ccc",
   "metadata": {},
   "outputs": [],
   "source": [
    "# your codes here (if needed)"
   ]
  },
  {
   "cell_type": "markdown",
   "id": "71939599",
   "metadata": {},
   "source": [
    "**Q5: Compare your experience working in different Python IDEs. What seems appealing about each? What seems challenging? Based on this experience, what is your preference, or are there situations in which you'd prefer one over the other?**"
   ]
  },
  {
   "cell_type": "markdown",
   "id": "7e425d7f",
   "metadata": {},
   "source": [
    "**Answer**: Your answer here (double click to edit)"
   ]
  },
  {
   "cell_type": "code",
   "execution_count": null,
   "id": "764a1c9a",
   "metadata": {},
   "outputs": [],
   "source": [
    "# your codes here (if needed)"
   ]
  },
  {
   "cell_type": "markdown",
   "id": "1b121d2a",
   "metadata": {},
   "source": [
    "**Q6: After working through the previous steps, export your notebook for this lab as a PDF. Submit both the Jupyter Notebook (.ipynb) and PDF file on Canvas.**"
   ]
  },
  {
   "cell_type": "markdown",
   "id": "6eed3320",
   "metadata": {},
   "source": [
    "**Answer**: Your answer here (double click to edit)"
   ]
  },
  {
   "cell_type": "code",
   "execution_count": null,
   "id": "e466db11",
   "metadata": {},
   "outputs": [],
   "source": [
    "# your codes here (if needed)"
   ]
  },
  {
   "cell_type": "markdown",
   "id": "9a20b96b",
   "metadata": {},
   "source": [
    "## OPTIONAL SPYDER QUESTIONS"
   ]
  },
  {
   "cell_type": "markdown",
   "id": "024323c5",
   "metadata": {},
   "source": [
    "**QA: How is Spyder different than previous IDEs? What do you see as strengths/advantages? What do you see as possible challenges?**"
   ]
  },
  {
   "cell_type": "markdown",
   "id": "16cb436d",
   "metadata": {},
   "source": [
    "**Answer**: Your answer here (double click to edit)"
   ]
  },
  {
   "cell_type": "code",
   "execution_count": null,
   "id": "d52217f8",
   "metadata": {},
   "outputs": [],
   "source": [
    "# your codes here (if needed)"
   ]
  },
  {
   "cell_type": "markdown",
   "id": "51739499",
   "metadata": {},
   "source": [
    "**QB: What type of error does this program return (syntax, runtime, semantic) and why? How would we go about modifying the program to address this error?**"
   ]
  },
  {
   "cell_type": "markdown",
   "id": "f6ebdf81",
   "metadata": {},
   "source": [
    "**Answer**: Your answer here (double click to edit)"
   ]
  },
  {
   "cell_type": "code",
   "execution_count": null,
   "id": "7c8526a2",
   "metadata": {},
   "outputs": [],
   "source": [
    "# your codes here (if needed)"
   ]
  },
  {
   "cell_type": "markdown",
   "id": "c34c409d",
   "metadata": {},
   "source": [
    "**QC: What happens when we run this program? What kinds of log messages do we get, and what information do they give us?**"
   ]
  },
  {
   "cell_type": "markdown",
   "id": "2c1fc914",
   "metadata": {},
   "source": [
    "**Answer**: Your answer here (double click to edit)"
   ]
  },
  {
   "cell_type": "code",
   "execution_count": null,
   "id": "6b687c14",
   "metadata": {},
   "outputs": [],
   "source": [
    "# your codes here (if needed)"
   ]
  },
  {
   "cell_type": "markdown",
   "id": "db6454d0",
   "metadata": {},
   "source": [
    "**QD: Is this program doing what we expect? Where would you go next with debugging or addressing the error?**"
   ]
  },
  {
   "cell_type": "markdown",
   "id": "c02039ce",
   "metadata": {},
   "source": [
    "**Answer**: Your answer here (double click to edit)"
   ]
  },
  {
   "cell_type": "code",
   "execution_count": null,
   "id": "c9e4ad9a",
   "metadata": {},
   "outputs": [],
   "source": [
    "# your codes here (if needed)"
   ]
  },
  {
   "cell_type": "markdown",
   "id": "d0a37cb9",
   "metadata": {},
   "source": [
    "**QE: What are your thoughts on this approach to identifying what's happening in your program? What seems appealing? What seems challenging? When or how could this approach be useful?**"
   ]
  },
  {
   "cell_type": "markdown",
   "id": "4986893a",
   "metadata": {},
   "source": [
    "**Answer**: Your answer here (double click to edit)"
   ]
  },
  {
   "cell_type": "code",
   "execution_count": null,
   "id": "07260b80",
   "metadata": {},
   "outputs": [],
   "source": [
    "# your codes here (if needed)"
   ]
  }
 ],
 "metadata": {
  "kernelspec": {
   "display_name": "Python 3",
   "language": "python",
   "name": "python3"
  },
  "language_info": {
   "codemirror_mode": {
    "name": "ipython",
    "version": 3
   },
   "file_extension": ".py",
   "mimetype": "text/x-python",
   "name": "python",
   "nbconvert_exporter": "python",
   "pygments_lexer": "ipython3",
   "version": "3.8.8"
  }
 },
 "nbformat": 4,
 "nbformat_minor": 5
}
